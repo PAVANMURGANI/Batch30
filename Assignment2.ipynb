{
 "cells": [
  {
   "cell_type": "code",
   "execution_count": 12,
   "metadata": {},
   "outputs": [
    {
     "name": "stdout",
     "output_type": "stream",
     "text": [
      "The adjacency List representing the graph is:\n",
      "{0: [1, 3], 1: [0, 2, 3], 2: [4, 1, 5], 3: [4, 0, 1], 4: [2, 3, 5], 5: [4, 2]}\n",
      "BFS traversal of graph with source 0 is:\n",
      "0-->1-->3-->2-->4-->5-->"
     ]
    }
   ],
   "source": [
    "from queue import Queue\n",
    "graph = {0: [1, 3], 1: [0, 2, 3], 2: [4, 1, 5], 3: [4, 0, 1], 4: [2, 3, 5], 5: [4, 2]}\n",
    "print(\"The adjacency List representing the graph is:\")\n",
    "print(graph)\n",
    "def bfs(graph, source):\n",
    "    Q = Queue()\n",
    "    visited_vertices = set()\n",
    "    Q.put(source)\n",
    "    visited_vertices.update({0})\n",
    "    while not Q.empty():\n",
    "        vertex = Q.get()\n",
    "        print(vertex, end=\"-->\")\n",
    "        for u in graph[vertex]:\n",
    "            if u not in visited_vertices:\n",
    "               Q.put(u)\n",
    "               visited_vertices.update({u})\n",
    "print(\"BFS traversal of graph with source 0 is:\")\n",
    "bfs(graph, 0)\n"
   ]
  },
  {
   "cell_type": "markdown",
   "metadata": {},
   "source": []
  },
  {
   "cell_type": "markdown",
   "metadata": {},
   "source": []
  },
  {
   "cell_type": "code",
   "execution_count": 10,
   "metadata": {},
   "outputs": [
    {
     "name": "stdout",
     "output_type": "stream",
     "text": [
      "['D', 'C', 'E', 'H', 'G', 'F', 'S', 'A', 'B']\n"
     ]
    }
   ],
   "source": [
    "#implement depth first search algorithm\n",
    "graph1 = {\n",
    "     'A' : ['B','S'],\n",
    "     'B' : ['A'],\n",
    "     'C' : ['D','E','F','S'],\n",
    "     'D' : ['C'],\n",
    "     'E' : ['C','H'],\n",
    "     'F' : ['C','G'],\n",
    "     'G' : ['F','S'],\n",
    "     'H' : ['E','G'],\n",
    "     'S' : ['A','C','G']\n",
    "}\n",
    "def dfs(graph, node, visited):\n",
    "    if node not in visited:\n",
    "        visited.append(node)\n",
    "        for k in graph[node]:\n",
    "            dfs(graph,k, visited)\n",
    "    return visited\n",
    "visited = dfs(graph1,'D', [])\n",
    "print(visited)\n",
    "                  \n"
   ]
  }
 ],
 "metadata": {
  "kernelspec": {
   "display_name": "Python 3",
   "language": "python",
   "name": "python3"
  },
  "language_info": {
   "codemirror_mode": {
    "name": "ipython",
    "version": 3
   },
   "file_extension": ".py",
   "mimetype": "text/x-python",
   "name": "python",
   "nbconvert_exporter": "python",
   "pygments_lexer": "ipython3",
   "version": "3.10.13"
  }
 },
 "nbformat": 4,
 "nbformat_minor": 2
}
